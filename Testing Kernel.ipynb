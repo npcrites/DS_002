{
 "cells": [
  {
   "cell_type": "code",
   "execution_count": 10,
   "id": "7daf6fdb",
   "metadata": {},
   "outputs": [
    {
     "ename": "ImportError",
     "evalue": "attempted relative import with no known parent package",
     "output_type": "error",
     "traceback": [
      "\u001b[0;31m---------------------------------------------------------------------------\u001b[0m",
      "\u001b[0;31mImportError\u001b[0m                               Traceback (most recent call last)",
      "\u001b[0;32m/var/folders/xf/8808rrps3wb3r170fzcq_6t00000gn/T/ipykernel_7764/3803529404.py\u001b[0m in \u001b[0;36m<module>\u001b[0;34m\u001b[0m\n\u001b[1;32m     17\u001b[0m \u001b[0;32mfrom\u001b[0m \u001b[0mstatistics\u001b[0m \u001b[0;32mimport\u001b[0m \u001b[0mstandard_deviation\u001b[0m\u001b[0;34m\u001b[0m\u001b[0;34m\u001b[0m\u001b[0m\n\u001b[1;32m     18\u001b[0m \u001b[0;34m\u001b[0m\u001b[0m\n\u001b[0;32m---> 19\u001b[0;31m \u001b[0;32mfrom\u001b[0m \u001b[0mgradient_descent\u001b[0m \u001b[0;32mimport\u001b[0m \u001b[0mgradient_step\u001b[0m\u001b[0;34m\u001b[0m\u001b[0;34m\u001b[0m\u001b[0m\n\u001b[0m\u001b[1;32m     20\u001b[0m \u001b[0;34m\u001b[0m\u001b[0m\n\u001b[1;32m     21\u001b[0m \u001b[0;32mfrom\u001b[0m \u001b[0mprobability\u001b[0m \u001b[0;32mimport\u001b[0m \u001b[0minverse_normal_cdf\u001b[0m\u001b[0;34m\u001b[0m\u001b[0;34m\u001b[0m\u001b[0m\n",
      "\u001b[0;32m~/Desktop/DS_002/gradient_descent.py\u001b[0m in \u001b[0;36m<module>\u001b[0;34m\u001b[0m\n\u001b[1;32m     13\u001b[0m \u001b[0;34m\u001b[0m\u001b[0m\n\u001b[1;32m     14\u001b[0m \u001b[0;31m# local code imports\u001b[0m\u001b[0;34m\u001b[0m\u001b[0;34m\u001b[0m\u001b[0m\n\u001b[0;32m---> 15\u001b[0;31m \u001b[0;32mfrom\u001b[0m \u001b[0;34m.\u001b[0m\u001b[0mlinear_algebra\u001b[0m \u001b[0;32mimport\u001b[0m \u001b[0mdistance\u001b[0m\u001b[0;34m,\u001b[0m \u001b[0madd\u001b[0m\u001b[0;34m,\u001b[0m \u001b[0mscalar_multiply\u001b[0m\u001b[0;34m\u001b[0m\u001b[0;34m\u001b[0m\u001b[0m\n\u001b[0m\u001b[1;32m     16\u001b[0m \u001b[0;32mfrom\u001b[0m \u001b[0;34m.\u001b[0m\u001b[0mlinear_algebra\u001b[0m \u001b[0;32mimport\u001b[0m \u001b[0mVector\u001b[0m\u001b[0;34m,\u001b[0m \u001b[0mdot\u001b[0m\u001b[0;34m\u001b[0m\u001b[0;34m\u001b[0m\u001b[0m\n\u001b[1;32m     17\u001b[0m \u001b[0;32mfrom\u001b[0m \u001b[0;34m.\u001b[0m\u001b[0mlinear_algebra\u001b[0m \u001b[0;32mimport\u001b[0m \u001b[0mvector_mean\u001b[0m\u001b[0;34m\u001b[0m\u001b[0;34m\u001b[0m\u001b[0m\n",
      "\u001b[0;31mImportError\u001b[0m: attempted relative import with no known parent package"
     ]
    }
   ],
   "source": [
    "from linear_algebra import Vector, Matrix\n",
    "from linear_algebra import make_matrix\n",
    "from linear_algebra import sum_of_squares\n",
    "from linear_algebra import dot\n",
    "from linear_algebra import subtract\n",
    "from linear_algebra import magnitude\n",
    "from linear_algebra import scalar_multiply\n",
    "from linear_algebra import vector_mean\n",
    "from linear_algebra import distance\n",
    "from linear_algebra import add\n",
    "\n",
    "from statistics import correlation\n",
    "from statistics import standard_deviation\n",
    "from statistics import median\n",
    "from statistics import mean\n",
    "from statistics import de_mean\n",
    "from statistics import standard_deviation\n",
    "\n",
    "from gradient_descent import gradient_step\n",
    "\n",
    "from probability import inverse_normal_cdf"
   ]
  },
  {
   "cell_type": "code",
   "execution_count": 11,
   "id": "98e18445",
   "metadata": {},
   "outputs": [],
   "source": [
    "# python library imports\n",
    "import random, datetime, re, csv, math, enum\n",
    "from collections import defaultdict, Counter\n",
    "from typing import Tuple, List, NamedTuple, Optional, Callable\n",
    "from typing import TypeVar, List, Iterator\n",
    "\n",
    "# external code\n",
    "from dateutil.parser import parse\n",
    "import tqdm\n",
    "\n",
    "# pyplot configs\n",
    "import seaborn as sns\n",
    "from matplotlib import pyplot as plt\n",
    "\n",
    "# font\n",
    "plt.rcParams.update({'font.size': 8})\n",
    "\n",
    "# reset the default figsize value\n",
    "plt.rcParams[\"figure.figsize\"] = plt.rcParamsDefault[\"figure.figsize\"]\n",
    "\n",
    "# 144 is good for a high-resolution display. Try 100 if it's too big\n",
    "plt.rcParams[\"figure.dpi\"] = (80)"
   ]
  },
  {
   "cell_type": "code",
   "execution_count": 20,
   "id": "316a1b3c",
   "metadata": {},
   "outputs": [
    {
     "name": "stdout",
     "output_type": "stream",
     "text": [
      "| i | col |\n",
      "|-- |---- |\n",
      "| 0 |  |\n",
      "| 1 | age |\n",
      "| 2 | workclass |\n",
      "| 3 | fnlwgt |\n",
      "| 4 | education |\n",
      "| 5 | educational-num |\n",
      "| 6 | marital-status |\n",
      "| 7 | occupation |\n",
      "| 8 | relationship |\n",
      "| 9 | race |\n",
      "| 10 | gender |\n",
      "| 11 | capital-gain |\n",
      "| 12 | capital-loss |\n",
      "| 13 | hours-per-week |\n",
      "| 14 | native-country |\n",
      "| 15 | income |\n"
     ]
    }
   ],
   "source": [
    "!head -1 /Users/nickcrites/Desktop/DS_002/adult_9ksample.csv > cols.txt; \n",
    "with open(\"cols.txt\") as f:\n",
    "    for line in f:\n",
    "        cols = line.strip().split(',')\n",
    "\n",
    "print(\"| i | col |\")\n",
    "print(\"|-- |---- |\")\n",
    "for i,c in enumerate(cols):\n",
    "  print(f\"| {i} | {c} |\")"
   ]
  },
  {
   "cell_type": "code",
   "execution_count": 22,
   "id": "e54ff888",
   "metadata": {},
   "outputs": [
    {
     "data": {
      "text/plain": [
       "9001"
      ]
     },
     "execution_count": 22,
     "metadata": {},
     "output_type": "execute_result"
    }
   ],
   "source": [
    "filename = \"/Users/nickcrites/Desktop/DS_002/adult_9ksample.csv\"\n",
    "with open(filename) as f:\n",
    "    numlines = sum(1 for line in f)\n",
    "\n",
    "numlines"
   ]
  },
  {
   "cell_type": "code",
   "execution_count": 23,
   "id": "a22edb1e",
   "metadata": {},
   "outputs": [],
   "source": [
    "# Load up a large data structure\n",
    "data_dict = csv.DictReader(open(filename))\n",
    "\n",
    "# Let's do some frequency counting\n",
    "from collections import Counter\n",
    "\n",
    "# race, gender, occupation, hours worked per week, and education\n",
    "races = []\n",
    "genders = []\n",
    "incomes = []\n",
    "educationalnum = []\n",
    "occupations = []\n",
    "hoursperweek = []\n",
    "\n",
    "for row in data_dict:\n",
    "    hours = int(row[\"hours-per-week\"])\n",
    "    hoursperweek.append(hours)\n",
    "\n",
    "    race = str(row[\"race\"])\n",
    "    races.append(race)\n",
    "\n",
    "    gender = str(row[\"gender\"])\n",
    "    genders.append(gender)\n",
    "\n",
    "    income = str(row[\"income\"])\n",
    "    incomes.append(income)\n",
    "\n",
    "    occupation = str(row[\"occupation\"])\n",
    "    occupations.append(occupation)\n",
    "\n",
    "assert len(hoursperweek) == len(races) == len(genders) == len(incomes) == len(occupations)"
   ]
  },
  {
   "cell_type": "code",
   "execution_count": 24,
   "id": "6aaff997",
   "metadata": {},
   "outputs": [
    {
     "name": "stdout",
     "output_type": "stream",
     "text": [
      "The mean hours-per-week is 40.99366666666667, median is 40.0\n"
     ]
    }
   ],
   "source": [
    "print(f\"The mean hours-per-week is {mean(hoursperweek)}, median is {median(hoursperweek)}\")"
   ]
  },
  {
   "cell_type": "code",
   "execution_count": 25,
   "id": "47f22c33",
   "metadata": {},
   "outputs": [
    {
     "data": {
      "text/plain": [
       "<AxesSubplot:>"
      ]
     },
     "execution_count": 25,
     "metadata": {},
     "output_type": "execute_result"
    },
    {
     "data": {
      "image/png": "[encoded data removed]",
      "text/plain": [
       "<Figure size 512x384 with 1 Axes>"
      ]
     },
     "metadata": {
      "needs_background": "light"
     },
     "output_type": "display_data"
    }
   ],
   "source": [
    "# How many unique occupations?\n",
    "o = Counter(occupations)\n",
    "# occupations\n",
    "\n",
    "sns.barplot(\n",
    "    y=list(o.keys()),\n",
    "    x=list(o.values()),\n",
    "    orient='h')"
   ]
  },
  {
   "cell_type": "code",
   "execution_count": 26,
   "id": "cc602039",
   "metadata": {},
   "outputs": [
    {
     "data": {
      "text/plain": [
       "<AxesSubplot:>"
      ]
     },
     "execution_count": 26,
     "metadata": {},
     "output_type": "execute_result"
    },
    {
     "data": {
      "image/png": "[encoded data removed]",
      "text/plain": [
       "<Figure size 512x384 with 1 Axes>"
      ]
     },
     "metadata": {
      "needs_background": "light"
     },
     "output_type": "display_data"
    }
   ],
   "source": [
    "# distribution of incomes?\n",
    "i = Counter(incomes)\n",
    "\n",
    "sns.barplot(\n",
    "    x=list(i.keys()),\n",
    "    y=list(i.values()),\n",
    "    orient='v')"
   ]
  },
  {
   "cell_type": "code",
   "execution_count": 27,
   "id": "f8a93edd",
   "metadata": {},
   "outputs": [
    {
     "data": {
      "text/plain": [
       "<AxesSubplot:>"
      ]
     },
     "execution_count": 27,
     "metadata": {},
     "output_type": "execute_result"
    },
    {
     "data": {
      "image/png": "[encoded data removed]",
      "text/plain": [
       "<Figure size 512x384 with 1 Axes>"
      ]
     },
     "metadata": {
      "needs_background": "light"
     },
     "output_type": "display_data"
    }
   ],
   "source": [
    "# Distribution of race?\n",
    "r = Counter(races)\n",
    "\n",
    "sns.barplot(\n",
    "    x=list(r.keys()),\n",
    "    y=list(r.values()),\n",
    "    orient='v')"
   ]
  },
  {
   "cell_type": "code",
   "execution_count": 28,
   "id": "caa1723a",
   "metadata": {},
   "outputs": [
    {
     "data": {
      "text/plain": [
       "<AxesSubplot:>"
      ]
     },
     "execution_count": 28,
     "metadata": {},
     "output_type": "execute_result"
    },
    {
     "data": {
      "image/png": "[encoded data removed]",
      "text/plain": [
       "<Figure size 512x384 with 1 Axes>"
      ]
     },
     "metadata": {
      "needs_background": "light"
     },
     "output_type": "display_data"
    }
   ],
   "source": [
    "# distribution of gender?\n",
    "g = Counter(genders)\n",
    "\n",
    "sns.barplot(\n",
    "    x=list(g.keys()),\n",
    "    y=list(g.values()),\n",
    "    orient='v')"
   ]
  },
  {
   "cell_type": "code",
   "execution_count": null,
   "id": "aa1e76bb",
   "metadata": {},
   "outputs": [],
   "source": []
  }
 ],
 "metadata": {
  "kernelspec": {
   "display_name": "Python 3 (ipykernel)",
   "language": "python",
   "name": "python3"
  },
  "language_info": {
   "codemirror_mode": {
    "name": "ipython",
    "version": 3
   },
   "file_extension": ".py",
   "mimetype": "text/x-python",
   "name": "python",
   "nbconvert_exporter": "python",
   "pygments_lexer": "ipython3",
   "version": "3.9.7"
  }
 },
 "nbformat": 4,
 "nbformat_minor": 5
}
