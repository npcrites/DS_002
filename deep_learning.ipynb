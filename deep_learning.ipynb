{
  "cells": [
    {
      "cell_type": "markdown",
      "metadata": {
        "id": "view-in-github",
        "colab_type": "text"
      },
      "source": [
        "<a href=\"https://colab.research.google.com/github/npcrites/DS_002/blob/main/deep_learning.ipynb\" target=\"_parent\"><img src=\"https://colab.research.google.com/assets/colab-badge.svg\" alt=\"Open In Colab\"/></a>"
      ]
    },
    {
      "cell_type": "code",
      "source": [
        "# Clone your code into a directory called `byscratch`\n",
        "# \n",
        "! rm -Rf byscratch ;\n",
        "!git clone https://github.com/douglasgoodwin/byscratch.git byscratch"
      ],
      "metadata": {
        "colab": {
          "base_uri": "https://localhost:8080/"
        },
        "id": "d1txXq45lJaP",
        "outputId": "cfd82f85-92d0-40a0-802a-43752a34a924"
      },
      "id": "d1txXq45lJaP",
      "execution_count": null,
      "outputs": [
        {
          "output_type": "stream",
          "name": "stdout",
          "text": [
            "Cloning into 'byscratch'...\n",
            "remote: Enumerating objects: 46, done.\u001b[K\n",
            "remote: Counting objects: 100% (46/46), done.\u001b[K\n",
            "remote: Compressing objects: 100% (36/36), done.\u001b[K\n",
            "remote: Total 46 (delta 16), reused 28 (delta 7), pack-reused 0\u001b[K\n",
            "Unpacking objects: 100% (46/46), done.\n",
            "Checking out files: 100% (20/20), done.\n"
          ]
        }
      ]
    },
    {
      "cell_type": "code",
      "source": [
        "!pip install mnist"
      ],
      "metadata": {
        "colab": {
          "base_uri": "https://localhost:8080/"
        },
        "id": "ejz-yJ4elVB-",
        "outputId": "5ec209f9-6d1c-4c65-fdc3-18fc21e6dfa7"
      },
      "id": "ejz-yJ4elVB-",
      "execution_count": null,
      "outputs": [
        {
          "output_type": "stream",
          "name": "stdout",
          "text": [
            "Requirement already satisfied: mnist in /usr/local/lib/python3.7/dist-packages (0.2.2)\n",
            "Requirement already satisfied: numpy in /usr/local/lib/python3.7/dist-packages (from mnist) (1.21.5)\n"
          ]
        }
      ]
    },
    {
      "cell_type": "code",
      "execution_count": null,
      "id": "357266c5-c228-4ed9-b0cc-7af9ef8254da",
      "metadata": {
        "colab": {
          "base_uri": "https://localhost:8080/",
          "height": 35
        },
        "id": "357266c5-c228-4ed9-b0cc-7af9ef8254da",
        "outputId": "51c07c97-ca30-4c0f-870e-2ffd7ae89f36"
      },
      "outputs": [
        {
          "output_type": "display_data",
          "data": {
            "text/plain": [
              "<Figure size 432x288 with 0 Axes>"
            ]
          },
          "metadata": {}
        }
      ],
      "source": [
        "from byscratch.deep_learning import *"
      ]
    },
    {
      "cell_type": "code",
      "execution_count": null,
      "id": "68d05542-7c47-4f54-ab3c-b34847f8c12a",
      "metadata": {
        "id": "68d05542-7c47-4f54-ab3c-b34847f8c12a"
      },
      "outputs": [],
      "source": [
        "# python imports\n",
        "from typing import List, Callable, Iterable, Tuple\n",
        "import random\n",
        "import math\n",
        "import json\n",
        "import operator\n",
        "\n",
        "# local imports\n",
        "from byscratch.neural_networks import sigmoid\n",
        "from byscratch.probability import inverse_normal_cdf\n",
        "from byscratch.linear_algebra import dot\n",
        "from byscratch.linear_algebra import squared_distance\n",
        "from byscratch.neural_networks import binary_encode, fizz_buzz_encode, argmax\n",
        "\n",
        "# 3rd party imports\n",
        "import matplotlib.pyplot as plt\n",
        "import tqdm\n",
        "import mnist\n",
        "\n",
        "# not a byscratch\n",
        "import pandas as pd"
      ]
    },
    {
      "cell_type": "markdown",
      "id": "f9a65cc0-83e6-4e11-ae19-1f26b9dab28d",
      "metadata": {
        "id": "f9a65cc0-83e6-4e11-ae19-1f26b9dab28d"
      },
      "source": [
        "# Deep Neural Network Keras way\n",
        "\n",
        "https://www.kaggle.com/code/poonaml/deep-neural-network-keras-way"
      ]
    },
    {
      "cell_type": "code",
      "execution_count": null,
      "id": "a3e3fd63-1bac-458a-ac2c-0a515a1f3898",
      "metadata": {
        "colab": {
          "base_uri": "https://localhost:8080/"
        },
        "id": "a3e3fd63-1bac-458a-ac2c-0a515a1f3898",
        "outputId": "6259a8e8-7f38-443a-b95f-01da7a570bc6"
      },
      "outputs": [
        {
          "output_type": "stream",
          "name": "stdout",
          "text": [
            "adult_9ksample.csv\n",
            "adult_original.csv\n",
            "adult_stratified_income.csv\n",
            "bike_sharing_daily.csv\n",
            "bike_sharing_hourly.csv\n",
            "mnist_test.csv\n",
            "mnist_train.csv\n",
            "\n"
          ]
        }
      ],
      "source": [
        "# This Python 3 environment comes with many helpful analytics libraries installed\n",
        "# It is defined by the kaggle/python docker image: https://github.com/kaggle/docker-python\n",
        "# For example, here's several helpful packages to load in \n",
        "\n",
        "import numpy as np # linear algebra\n",
        "import pandas as pd # data processing, CSV file I/O (e.g. pd.read_csv)\n",
        "\n",
        "import matplotlib.pyplot as plt\n",
        "%matplotlib inline\n",
        "\n",
        "from keras.models import Sequential\n",
        "from keras.layers import Dense , Dropout , Lambda, Flatten\n",
        "# from keras.optimizers import Adam ,RMSprop\n",
        "from tensorflow.keras.optimizers import Adam,RMSprop\n",
        "\n",
        "from sklearn.model_selection import train_test_split\n",
        "from keras import  backend as K\n",
        "from keras.preprocessing.image import ImageDataGenerator\n",
        "\n",
        "# Input data files are available in the \"byscratch/data/\" directory.\n",
        "# For example, running this (by clicking run or pressing Shift+Enter) will list the files in the input directory\n",
        "\n",
        "from subprocess import check_output\n",
        "print(check_output([\"ls\", \"./byscratch/data\"]).decode(\"utf8\"))\n",
        "\n",
        "# Any results you write to the current directory are saved as output."
      ]
    },
    {
      "cell_type": "code",
      "execution_count": null,
      "id": "110339a0-439c-4465-933c-c8034ce2e630",
      "metadata": {
        "colab": {
          "base_uri": "https://localhost:8080/",
          "height": 317
        },
        "id": "110339a0-439c-4465-933c-c8034ce2e630",
        "outputId": "ef715b6e-d6f2-43b0-e76f-5266e589c5a0"
      },
      "outputs": [
        {
          "output_type": "stream",
          "name": "stdout",
          "text": [
            "(42000, 785)\n"
          ]
        },
        {
          "output_type": "execute_result",
          "data": {
            "text/plain": [
              "   label  pixel0  pixel1  pixel2  pixel3  pixel4  pixel5  pixel6  pixel7  \\\n",
              "0      1       0       0       0       0       0       0       0       0   \n",
              "1      0       0       0       0       0       0       0       0       0   \n",
              "2      1       0       0       0       0       0       0       0       0   \n",
              "3      4       0       0       0       0       0       0       0       0   \n",
              "4      0       0       0       0       0       0       0       0       0   \n",
              "\n",
              "   pixel8  ...  pixel774  pixel775  pixel776  pixel777  pixel778  pixel779  \\\n",
              "0       0  ...         0         0         0         0         0         0   \n",
              "1       0  ...         0         0         0         0         0         0   \n",
              "2       0  ...         0         0         0         0         0         0   \n",
              "3       0  ...         0         0         0         0         0         0   \n",
              "4       0  ...         0         0         0         0         0         0   \n",
              "\n",
              "   pixel780  pixel781  pixel782  pixel783  \n",
              "0         0         0         0         0  \n",
              "1         0         0         0         0  \n",
              "2         0         0         0         0  \n",
              "3         0         0         0         0  \n",
              "4         0         0         0         0  \n",
              "\n",
              "[5 rows x 785 columns]"
            ],
            "text/html": [
              "\n",
              "  <div id=\"df-bb84a8fa-9d90-4e6e-884d-417d5859af31\">\n",
              "    <div class=\"colab-df-container\">\n",
              "      <div>\n",
              "<style scoped>\n",
              "    .dataframe tbody tr th:only-of-type {\n",
              "        vertical-align: middle;\n",
              "    }\n",
              "\n",
              "    .dataframe tbody tr th {\n",
              "        vertical-align: top;\n",
              "    }\n",
              "\n",
              "    .dataframe thead th {\n",
              "        text-align: right;\n",
              "    }\n",
              "</style>\n",
              "<table border=\"1\" class=\"dataframe\">\n",
              "  <thead>\n",
              "    <tr style=\"text-align: right;\">\n",
              "      <th></th>\n",
              "      <th>label</th>\n",
              "      <th>pixel0</th>\n",
              "      <th>pixel1</th>\n",
              "      <th>pixel2</th>\n",
              "      <th>pixel3</th>\n",
              "      <th>pixel4</th>\n",
              "      <th>pixel5</th>\n",
              "      <th>pixel6</th>\n",
              "      <th>pixel7</th>\n",
              "      <th>pixel8</th>\n",
              "      <th>...</th>\n",
              "      <th>pixel774</th>\n",
              "      <th>pixel775</th>\n",
              "      <th>pixel776</th>\n",
              "      <th>pixel777</th>\n",
              "      <th>pixel778</th>\n",
              "      <th>pixel779</th>\n",
              "      <th>pixel780</th>\n",
              "      <th>pixel781</th>\n",
              "      <th>pixel782</th>\n",
              "      <th>pixel783</th>\n",
              "    </tr>\n",
              "  </thead>\n",
              "  <tbody>\n",
              "    <tr>\n",
              "      <th>0</th>\n",
              "      <td>1</td>\n",
              "      <td>0</td>\n",
              "      <td>0</td>\n",
              "      <td>0</td>\n",
              "      <td>0</td>\n",
              "      <td>0</td>\n",
              "      <td>0</td>\n",
              "      <td>0</td>\n",
              "      <td>0</td>\n",
              "      <td>0</td>\n",
              "      <td>...</td>\n",
              "      <td>0</td>\n",
              "      <td>0</td>\n",
              "      <td>0</td>\n",
              "      <td>0</td>\n",
              "      <td>0</td>\n",
              "      <td>0</td>\n",
              "      <td>0</td>\n",
              "      <td>0</td>\n",
              "      <td>0</td>\n",
              "      <td>0</td>\n",
              "    </tr>\n",
              "    <tr>\n",
              "      <th>1</th>\n",
              "      <td>0</td>\n",
              "      <td>0</td>\n",
              "      <td>0</td>\n",
              "      <td>0</td>\n",
              "      <td>0</td>\n",
              "      <td>0</td>\n",
              "      <td>0</td>\n",
              "      <td>0</td>\n",
              "      <td>0</td>\n",
              "      <td>0</td>\n",
              "      <td>...</td>\n",
              "      <td>0</td>\n",
              "      <td>0</td>\n",
              "      <td>0</td>\n",
              "      <td>0</td>\n",
              "      <td>0</td>\n",
              "      <td>0</td>\n",
              "      <td>0</td>\n",
              "      <td>0</td>\n",
              "      <td>0</td>\n",
              "      <td>0</td>\n",
              "    </tr>\n",
              "    <tr>\n",
              "      <th>2</th>\n",
              "      <td>1</td>\n",
              "      <td>0</td>\n",
              "      <td>0</td>\n",
              "      <td>0</td>\n",
              "      <td>0</td>\n",
              "      <td>0</td>\n",
              "      <td>0</td>\n",
              "      <td>0</td>\n",
              "      <td>0</td>\n",
              "      <td>0</td>\n",
              "      <td>...</td>\n",
              "      <td>0</td>\n",
              "      <td>0</td>\n",
              "      <td>0</td>\n",
              "      <td>0</td>\n",
              "      <td>0</td>\n",
              "      <td>0</td>\n",
              "      <td>0</td>\n",
              "      <td>0</td>\n",
              "      <td>0</td>\n",
              "      <td>0</td>\n",
              "    </tr>\n",
              "    <tr>\n",
              "      <th>3</th>\n",
              "      <td>4</td>\n",
              "      <td>0</td>\n",
              "      <td>0</td>\n",
              "      <td>0</td>\n",
              "      <td>0</td>\n",
              "      <td>0</td>\n",
              "      <td>0</td>\n",
              "      <td>0</td>\n",
              "      <td>0</td>\n",
              "      <td>0</td>\n",
              "      <td>...</td>\n",
              "      <td>0</td>\n",
              "      <td>0</td>\n",
              "      <td>0</td>\n",
              "      <td>0</td>\n",
              "      <td>0</td>\n",
              "      <td>0</td>\n",
              "      <td>0</td>\n",
              "      <td>0</td>\n",
              "      <td>0</td>\n",
              "      <td>0</td>\n",
              "    </tr>\n",
              "    <tr>\n",
              "      <th>4</th>\n",
              "      <td>0</td>\n",
              "      <td>0</td>\n",
              "      <td>0</td>\n",
              "      <td>0</td>\n",
              "      <td>0</td>\n",
              "      <td>0</td>\n",
              "      <td>0</td>\n",
              "      <td>0</td>\n",
              "      <td>0</td>\n",
              "      <td>0</td>\n",
              "      <td>...</td>\n",
              "      <td>0</td>\n",
              "      <td>0</td>\n",
              "      <td>0</td>\n",
              "      <td>0</td>\n",
              "      <td>0</td>\n",
              "      <td>0</td>\n",
              "      <td>0</td>\n",
              "      <td>0</td>\n",
              "      <td>0</td>\n",
              "      <td>0</td>\n",
              "    </tr>\n",
              "  </tbody>\n",
              "</table>\n",
              "<p>5 rows × 785 columns</p>\n",
              "</div>\n",
              "      <button class=\"colab-df-convert\" onclick=\"convertToInteractive('df-bb84a8fa-9d90-4e6e-884d-417d5859af31')\"\n",
              "              title=\"Convert this dataframe to an interactive table.\"\n",
              "              style=\"display:none;\">\n",
              "        \n",
              "  <svg xmlns=\"http://www.w3.org/2000/svg\" height=\"24px\"viewBox=\"0 0 24 24\"\n",
              "       width=\"24px\">\n",
              "    <path d=\"M0 0h24v24H0V0z\" fill=\"none\"/>\n",
              "    <path d=\"M18.56 5.44l.94 2.06.94-2.06 2.06-.94-2.06-.94-.94-2.06-.94 2.06-2.06.94zm-11 1L8.5 8.5l.94-2.06 2.06-.94-2.06-.94L8.5 2.5l-.94 2.06-2.06.94zm10 10l.94 2.06.94-2.06 2.06-.94-2.06-.94-.94-2.06-.94 2.06-2.06.94z\"/><path d=\"M17.41 7.96l-1.37-1.37c-.4-.4-.92-.59-1.43-.59-.52 0-1.04.2-1.43.59L10.3 9.45l-7.72 7.72c-.78.78-.78 2.05 0 2.83L4 21.41c.39.39.9.59 1.41.59.51 0 1.02-.2 1.41-.59l7.78-7.78 2.81-2.81c.8-.78.8-2.07 0-2.86zM5.41 20L4 18.59l7.72-7.72 1.47 1.35L5.41 20z\"/>\n",
              "  </svg>\n",
              "      </button>\n",
              "      \n",
              "  <style>\n",
              "    .colab-df-container {\n",
              "      display:flex;\n",
              "      flex-wrap:wrap;\n",
              "      gap: 12px;\n",
              "    }\n",
              "\n",
              "    .colab-df-convert {\n",
              "      background-color: #E8F0FE;\n",
              "      border: none;\n",
              "      border-radius: 50%;\n",
              "      cursor: pointer;\n",
              "      display: none;\n",
              "      fill: #1967D2;\n",
              "      height: 32px;\n",
              "      padding: 0 0 0 0;\n",
              "      width: 32px;\n",
              "    }\n",
              "\n",
              "    .colab-df-convert:hover {\n",
              "      background-color: #E2EBFA;\n",
              "      box-shadow: 0px 1px 2px rgba(60, 64, 67, 0.3), 0px 1px 3px 1px rgba(60, 64, 67, 0.15);\n",
              "      fill: #174EA6;\n",
              "    }\n",
              "\n",
              "    [theme=dark] .colab-df-convert {\n",
              "      background-color: #3B4455;\n",
              "      fill: #D2E3FC;\n",
              "    }\n",
              "\n",
              "    [theme=dark] .colab-df-convert:hover {\n",
              "      background-color: #434B5C;\n",
              "      box-shadow: 0px 1px 3px 1px rgba(0, 0, 0, 0.15);\n",
              "      filter: drop-shadow(0px 1px 2px rgba(0, 0, 0, 0.3));\n",
              "      fill: #FFFFFF;\n",
              "    }\n",
              "  </style>\n",
              "\n",
              "      <script>\n",
              "        const buttonEl =\n",
              "          document.querySelector('#df-bb84a8fa-9d90-4e6e-884d-417d5859af31 button.colab-df-convert');\n",
              "        buttonEl.style.display =\n",
              "          google.colab.kernel.accessAllowed ? 'block' : 'none';\n",
              "\n",
              "        async function convertToInteractive(key) {\n",
              "          const element = document.querySelector('#df-bb84a8fa-9d90-4e6e-884d-417d5859af31');\n",
              "          const dataTable =\n",
              "            await google.colab.kernel.invokeFunction('convertToInteractive',\n",
              "                                                     [key], {});\n",
              "          if (!dataTable) return;\n",
              "\n",
              "          const docLinkHtml = 'Like what you see? Visit the ' +\n",
              "            '<a target=\"_blank\" href=https://colab.research.google.com/notebooks/data_table.ipynb>data table notebook</a>'\n",
              "            + ' to learn more about interactive tables.';\n",
              "          element.innerHTML = '';\n",
              "          dataTable['output_type'] = 'display_data';\n",
              "          await google.colab.output.renderOutput(dataTable, element);\n",
              "          const docLink = document.createElement('div');\n",
              "          docLink.innerHTML = docLinkHtml;\n",
              "          element.appendChild(docLink);\n",
              "        }\n",
              "      </script>\n",
              "    </div>\n",
              "  </div>\n",
              "  "
            ]
          },
          "metadata": {},
          "execution_count": 6
        }
      ],
      "source": [
        "# create the training & test sets, skipping the header row with [1:]\n",
        "train = pd.read_csv(\"byscratch/data/mnist_train.csv\")\n",
        "print(train.shape)\n",
        "train.head()"
      ]
    },
    {
      "cell_type": "code",
      "execution_count": null,
      "id": "b20e4081-f24f-4134-8714-e50801ed07b2",
      "metadata": {
        "colab": {
          "base_uri": "https://localhost:8080/",
          "height": 317
        },
        "id": "b20e4081-f24f-4134-8714-e50801ed07b2",
        "outputId": "b6fbb907-da9d-4eb5-83c3-3c18cda3c64b"
      },
      "outputs": [
        {
          "output_type": "stream",
          "name": "stdout",
          "text": [
            "(28000, 784)\n"
          ]
        },
        {
          "output_type": "execute_result",
          "data": {
            "text/plain": [
              "   pixel0  pixel1  pixel2  pixel3  pixel4  pixel5  pixel6  pixel7  pixel8  \\\n",
              "0       0       0       0       0       0       0       0       0       0   \n",
              "1       0       0       0       0       0       0       0       0       0   \n",
              "2       0       0       0       0       0       0       0       0       0   \n",
              "3       0       0       0       0       0       0       0       0       0   \n",
              "4       0       0       0       0       0       0       0       0       0   \n",
              "\n",
              "   pixel9  ...  pixel774  pixel775  pixel776  pixel777  pixel778  pixel779  \\\n",
              "0       0  ...         0         0         0         0         0         0   \n",
              "1       0  ...         0         0         0         0         0         0   \n",
              "2       0  ...         0         0         0         0         0         0   \n",
              "3       0  ...         0         0         0         0         0         0   \n",
              "4       0  ...         0         0         0         0         0         0   \n",
              "\n",
              "   pixel780  pixel781  pixel782  pixel783  \n",
              "0         0         0         0         0  \n",
              "1         0         0         0         0  \n",
              "2         0         0         0         0  \n",
              "3         0         0         0         0  \n",
              "4         0         0         0         0  \n",
              "\n",
              "[5 rows x 784 columns]"
            ],
            "text/html": [
              "\n",
              "  <div id=\"df-8fabe6b7-bce4-4478-9980-970f1290a8ce\">\n",
              "    <div class=\"colab-df-container\">\n",
              "      <div>\n",
              "<style scoped>\n",
              "    .dataframe tbody tr th:only-of-type {\n",
              "        vertical-align: middle;\n",
              "    }\n",
              "\n",
              "    .dataframe tbody tr th {\n",
              "        vertical-align: top;\n",
              "    }\n",
              "\n",
              "    .dataframe thead th {\n",
              "        text-align: right;\n",
              "    }\n",
              "</style>\n",
              "<table border=\"1\" class=\"dataframe\">\n",
              "  <thead>\n",
              "    <tr style=\"text-align: right;\">\n",
              "      <th></th>\n",
              "      <th>pixel0</th>\n",
              "      <th>pixel1</th>\n",
              "      <th>pixel2</th>\n",
              "      <th>pixel3</th>\n",
              "      <th>pixel4</th>\n",
              "      <th>pixel5</th>\n",
              "      <th>pixel6</th>\n",
              "      <th>pixel7</th>\n",
              "      <th>pixel8</th>\n",
              "      <th>pixel9</th>\n",
              "      <th>...</th>\n",
              "      <th>pixel774</th>\n",
              "      <th>pixel775</th>\n",
              "      <th>pixel776</th>\n",
              "      <th>pixel777</th>\n",
              "      <th>pixel778</th>\n",
              "      <th>pixel779</th>\n",
              "      <th>pixel780</th>\n",
              "      <th>pixel781</th>\n",
              "      <th>pixel782</th>\n",
              "      <th>pixel783</th>\n",
              "    </tr>\n",
              "  </thead>\n",
              "  <tbody>\n",
              "    <tr>\n",
              "      <th>0</th>\n",
              "      <td>0</td>\n",
              "      <td>0</td>\n",
              "      <td>0</td>\n",
              "      <td>0</td>\n",
              "      <td>0</td>\n",
              "      <td>0</td>\n",
              "      <td>0</td>\n",
              "      <td>0</td>\n",
              "      <td>0</td>\n",
              "      <td>0</td>\n",
              "      <td>...</td>\n",
              "      <td>0</td>\n",
              "      <td>0</td>\n",
              "      <td>0</td>\n",
              "      <td>0</td>\n",
              "      <td>0</td>\n",
              "      <td>0</td>\n",
              "      <td>0</td>\n",
              "      <td>0</td>\n",
              "      <td>0</td>\n",
              "      <td>0</td>\n",
              "    </tr>\n",
              "    <tr>\n",
              "      <th>1</th>\n",
              "      <td>0</td>\n",
              "      <td>0</td>\n",
              "      <td>0</td>\n",
              "      <td>0</td>\n",
              "      <td>0</td>\n",
              "      <td>0</td>\n",
              "      <td>0</td>\n",
              "      <td>0</td>\n",
              "      <td>0</td>\n",
              "      <td>0</td>\n",
              "      <td>...</td>\n",
              "      <td>0</td>\n",
              "      <td>0</td>\n",
              "      <td>0</td>\n",
              "      <td>0</td>\n",
              "      <td>0</td>\n",
              "      <td>0</td>\n",
              "      <td>0</td>\n",
              "      <td>0</td>\n",
              "      <td>0</td>\n",
              "      <td>0</td>\n",
              "    </tr>\n",
              "    <tr>\n",
              "      <th>2</th>\n",
              "      <td>0</td>\n",
              "      <td>0</td>\n",
              "      <td>0</td>\n",
              "      <td>0</td>\n",
              "      <td>0</td>\n",
              "      <td>0</td>\n",
              "      <td>0</td>\n",
              "      <td>0</td>\n",
              "      <td>0</td>\n",
              "      <td>0</td>\n",
              "      <td>...</td>\n",
              "      <td>0</td>\n",
              "      <td>0</td>\n",
              "      <td>0</td>\n",
              "      <td>0</td>\n",
              "      <td>0</td>\n",
              "      <td>0</td>\n",
              "      <td>0</td>\n",
              "      <td>0</td>\n",
              "      <td>0</td>\n",
              "      <td>0</td>\n",
              "    </tr>\n",
              "    <tr>\n",
              "      <th>3</th>\n",
              "      <td>0</td>\n",
              "      <td>0</td>\n",
              "      <td>0</td>\n",
              "      <td>0</td>\n",
              "      <td>0</td>\n",
              "      <td>0</td>\n",
              "      <td>0</td>\n",
              "      <td>0</td>\n",
              "      <td>0</td>\n",
              "      <td>0</td>\n",
              "      <td>...</td>\n",
              "      <td>0</td>\n",
              "      <td>0</td>\n",
              "      <td>0</td>\n",
              "      <td>0</td>\n",
              "      <td>0</td>\n",
              "      <td>0</td>\n",
              "      <td>0</td>\n",
              "      <td>0</td>\n",
              "      <td>0</td>\n",
              "      <td>0</td>\n",
              "    </tr>\n",
              "    <tr>\n",
              "      <th>4</th>\n",
              "      <td>0</td>\n",
              "      <td>0</td>\n",
              "      <td>0</td>\n",
              "      <td>0</td>\n",
              "      <td>0</td>\n",
              "      <td>0</td>\n",
              "      <td>0</td>\n",
              "      <td>0</td>\n",
              "      <td>0</td>\n",
              "      <td>0</td>\n",
              "      <td>...</td>\n",
              "      <td>0</td>\n",
              "      <td>0</td>\n",
              "      <td>0</td>\n",
              "      <td>0</td>\n",
              "      <td>0</td>\n",
              "      <td>0</td>\n",
              "      <td>0</td>\n",
              "      <td>0</td>\n",
              "      <td>0</td>\n",
              "      <td>0</td>\n",
              "    </tr>\n",
              "  </tbody>\n",
              "</table>\n",
              "<p>5 rows × 784 columns</p>\n",
              "</div>\n",
              "      <button class=\"colab-df-convert\" onclick=\"convertToInteractive('df-8fabe6b7-bce4-4478-9980-970f1290a8ce')\"\n",
              "              title=\"Convert this dataframe to an interactive table.\"\n",
              "              style=\"display:none;\">\n",
              "        \n",
              "  <svg xmlns=\"http://www.w3.org/2000/svg\" height=\"24px\"viewBox=\"0 0 24 24\"\n",
              "       width=\"24px\">\n",
              "    <path d=\"M0 0h24v24H0V0z\" fill=\"none\"/>\n",
              "    <path d=\"M18.56 5.44l.94 2.06.94-2.06 2.06-.94-2.06-.94-.94-2.06-.94 2.06-2.06.94zm-11 1L8.5 8.5l.94-2.06 2.06-.94-2.06-.94L8.5 2.5l-.94 2.06-2.06.94zm10 10l.94 2.06.94-2.06 2.06-.94-2.06-.94-.94-2.06-.94 2.06-2.06.94z\"/><path d=\"M17.41 7.96l-1.37-1.37c-.4-.4-.92-.59-1.43-.59-.52 0-1.04.2-1.43.59L10.3 9.45l-7.72 7.72c-.78.78-.78 2.05 0 2.83L4 21.41c.39.39.9.59 1.41.59.51 0 1.02-.2 1.41-.59l7.78-7.78 2.81-2.81c.8-.78.8-2.07 0-2.86zM5.41 20L4 18.59l7.72-7.72 1.47 1.35L5.41 20z\"/>\n",
              "  </svg>\n",
              "      </button>\n",
              "      \n",
              "  <style>\n",
              "    .colab-df-container {\n",
              "      display:flex;\n",
              "      flex-wrap:wrap;\n",
              "      gap: 12px;\n",
              "    }\n",
              "\n",
              "    .colab-df-convert {\n",
              "      background-color: #E8F0FE;\n",
              "      border: none;\n",
              "      border-radius: 50%;\n",
              "      cursor: pointer;\n",
              "      display: none;\n",
              "      fill: #1967D2;\n",
              "      height: 32px;\n",
              "      padding: 0 0 0 0;\n",
              "      width: 32px;\n",
              "    }\n",
              "\n",
              "    .colab-df-convert:hover {\n",
              "      background-color: #E2EBFA;\n",
              "      box-shadow: 0px 1px 2px rgba(60, 64, 67, 0.3), 0px 1px 3px 1px rgba(60, 64, 67, 0.15);\n",
              "      fill: #174EA6;\n",
              "    }\n",
              "\n",
              "    [theme=dark] .colab-df-convert {\n",
              "      background-color: #3B4455;\n",
              "      fill: #D2E3FC;\n",
              "    }\n",
              "\n",
              "    [theme=dark] .colab-df-convert:hover {\n",
              "      background-color: #434B5C;\n",
              "      box-shadow: 0px 1px 3px 1px rgba(0, 0, 0, 0.15);\n",
              "      filter: drop-shadow(0px 1px 2px rgba(0, 0, 0, 0.3));\n",
              "      fill: #FFFFFF;\n",
              "    }\n",
              "  </style>\n",
              "\n",
              "      <script>\n",
              "        const buttonEl =\n",
              "          document.querySelector('#df-8fabe6b7-bce4-4478-9980-970f1290a8ce button.colab-df-convert');\n",
              "        buttonEl.style.display =\n",
              "          google.colab.kernel.accessAllowed ? 'block' : 'none';\n",
              "\n",
              "        async function convertToInteractive(key) {\n",
              "          const element = document.querySelector('#df-8fabe6b7-bce4-4478-9980-970f1290a8ce');\n",
              "          const dataTable =\n",
              "            await google.colab.kernel.invokeFunction('convertToInteractive',\n",
              "                                                     [key], {});\n",
              "          if (!dataTable) return;\n",
              "\n",
              "          const docLinkHtml = 'Like what you see? Visit the ' +\n",
              "            '<a target=\"_blank\" href=https://colab.research.google.com/notebooks/data_table.ipynb>data table notebook</a>'\n",
              "            + ' to learn more about interactive tables.';\n",
              "          element.innerHTML = '';\n",
              "          dataTable['output_type'] = 'display_data';\n",
              "          await google.colab.output.renderOutput(dataTable, element);\n",
              "          const docLink = document.createElement('div');\n",
              "          docLink.innerHTML = docLinkHtml;\n",
              "          element.appendChild(docLink);\n",
              "        }\n",
              "      </script>\n",
              "    </div>\n",
              "  </div>\n",
              "  "
            ]
          },
          "metadata": {},
          "execution_count": 7
        }
      ],
      "source": [
        "test= pd.read_csv(\"byscratch/data/mnist_test.csv\")\n",
        "print(test.shape)\n",
        "test.head()"
      ]
    },
    {
      "cell_type": "code",
      "execution_count": null,
      "id": "8b85f91e-d345-4fb6-afc4-c601dea24f40",
      "metadata": {
        "id": "8b85f91e-d345-4fb6-afc4-c601dea24f40"
      },
      "outputs": [],
      "source": [
        "X_train = (train.iloc[:,1:].values).astype('float32') # all pixel values\n",
        "y_train = train.iloc[:,0].values.astype('int32') # only labels i.e targets digits\n",
        "X_test = test.values.astype('float32')"
      ]
    },
    {
      "cell_type": "markdown",
      "id": "deb82679-db66-4eac-96c2-88fd8b3e66c9",
      "metadata": {
        "id": "deb82679-db66-4eac-96c2-88fd8b3e66c9"
      },
      "source": [
        "# Data Visualization\n",
        "Lets look at 3 images from data set with their labels."
      ]
    },
    {
      "cell_type": "code",
      "execution_count": null,
      "id": "e0ebd8fa-2593-4590-b77c-38f7403ff514",
      "metadata": {
        "colab": {
          "base_uri": "https://localhost:8080/",
          "height": 128
        },
        "id": "e0ebd8fa-2593-4590-b77c-38f7403ff514",
        "outputId": "f2e376c9-2daf-4d18-f734-bb74b0e2990b"
      },
      "outputs": [
        {
          "output_type": "display_data",
          "data": {
            "text/plain": [
              "<Figure size 432x288 with 3 Axes>"
            ],
            "image/png": "[encoded data removed]"
          },
          "metadata": {
            "needs_background": "light"
          }
        }
      ],
      "source": [
        "#Convert train datset to (num_images, img_rows, img_cols) format \n",
        "X_train = X_train.reshape(X_train.shape[0], 28, 28)\n",
        "\n",
        "for i in range(6, 9):\n",
        "    plt.subplot(330 + (i+1))\n",
        "    plt.imshow(X_train[i], cmap=plt.get_cmap('gray_r'))\n",
        "    plt.title(y_train[i]);"
      ]
    },
    {
      "cell_type": "code",
      "execution_count": null,
      "id": "50e22553-f70b-4ff5-b3ca-82719ef5ece2",
      "metadata": {
        "colab": {
          "base_uri": "https://localhost:8080/"
        },
        "id": "50e22553-f70b-4ff5-b3ca-82719ef5ece2",
        "outputId": "37fc9d0e-76fc-48b7-95ac-ae5dc8df1828"
      },
      "outputs": [
        {
          "output_type": "execute_result",
          "data": {
            "text/plain": [
              "(42000, 28, 28, 1)"
            ]
          },
          "metadata": {},
          "execution_count": 10
        }
      ],
      "source": [
        "#expand 1 more dimention as 1 for colour channel gray\n",
        "X_train = X_train.reshape(X_train.shape[0], 28, 28,1)\n",
        "X_train.shape"
      ]
    },
    {
      "cell_type": "code",
      "execution_count": null,
      "id": "738bc42d-2ec0-4409-8458-b956bf0a289e",
      "metadata": {
        "colab": {
          "base_uri": "https://localhost:8080/"
        },
        "id": "738bc42d-2ec0-4409-8458-b956bf0a289e",
        "outputId": "ac38a757-f244-4824-c3ad-712d76282f7a"
      },
      "outputs": [
        {
          "output_type": "execute_result",
          "data": {
            "text/plain": [
              "(28000, 28, 28, 1)"
            ]
          },
          "metadata": {},
          "execution_count": 11
        }
      ],
      "source": [
        "X_test = X_test.reshape(X_test.shape[0], 28, 28,1)\n",
        "X_test.shape"
      ]
    },
    {
      "cell_type": "markdown",
      "id": "636c9dd1-3ef2-4197-aaf3-7fd6b80c7fb2",
      "metadata": {
        "id": "636c9dd1-3ef2-4197-aaf3-7fd6b80c7fb2"
      },
      "source": [
        "# Preprocess the digit images\n",
        "## Feature Standardization\n",
        "\n",
        "It is important preprocessing step. It is used to centre the data around zero mean and unit variance."
      ]
    },
    {
      "cell_type": "code",
      "execution_count": null,
      "id": "5a5597e4-27be-4c6a-a836-ca498e5c478a",
      "metadata": {
        "id": "5a5597e4-27be-4c6a-a836-ca498e5c478a"
      },
      "outputs": [],
      "source": [
        "mean_px = X_train.mean().astype(np.float32)\n",
        "std_px = X_train.std().astype(np.float32)\n",
        "\n",
        "def standardize(x): \n",
        "    return (x-mean_px)/std_px"
      ]
    },
    {
      "cell_type": "markdown",
      "id": "3461c170-ddf9-4d00-ba95-65d400e1d576",
      "metadata": {
        "id": "3461c170-ddf9-4d00-ba95-65d400e1d576"
      },
      "source": [
        "# One Hot encoding of labels.\n",
        "\n",
        "## This is another term for the `dummy()` function we saw last week.\n",
        "\n",
        "A one-hot vector is a vector which is 0 in most dimensions, and 1 in a single dimension. In this case, the nth digit will be represented as a vector which is 1 in the nth dimension.\n",
        "\n",
        "For example, 3 would be [0,0,0,1,0,0,0,0,0,0]."
      ]
    },
    {
      "cell_type": "code",
      "execution_count": null,
      "id": "f440748c-5036-4be6-822c-522e5292fcf1",
      "metadata": {
        "colab": {
          "base_uri": "https://localhost:8080/"
        },
        "id": "f440748c-5036-4be6-822c-522e5292fcf1",
        "outputId": "9f9058e8-77a3-4e30-ab94-09f2a0429897"
      },
      "outputs": [
        {
          "output_type": "execute_result",
          "data": {
            "text/plain": [
              "10"
            ]
          },
          "metadata": {},
          "execution_count": 13
        }
      ],
      "source": [
        "from keras.utils.np_utils import to_categorical\n",
        "y_train= to_categorical(y_train)\n",
        "num_classes = y_train.shape[1]\n",
        "num_classes"
      ]
    },
    {
      "cell_type": "code",
      "execution_count": null,
      "id": "f419096e-5cf4-4772-8b5f-d69854ab3cb5",
      "metadata": {
        "colab": {
          "base_uri": "https://localhost:8080/",
          "height": 336
        },
        "id": "f419096e-5cf4-4772-8b5f-d69854ab3cb5",
        "outputId": "757f7624-43d7-4ffe-cd4b-b3c67db4f503"
      },
      "outputs": [
        {
          "output_type": "stream",
          "name": "stderr",
          "text": [
            "/usr/local/lib/python3.7/dist-packages/matplotlib/text.py:1165: FutureWarning: elementwise comparison failed; returning scalar instead, but in the future will perform elementwise comparison\n",
            "  if s != self._text:\n"
          ]
        },
        {
          "output_type": "display_data",
          "data": {
            "text/plain": [
              "<Figure size 432x288 with 1 Axes>"
            ],
            "image/png": "[encoded data removed]"
          },
          "metadata": {
            "needs_background": "light"
          }
        }
      ],
      "source": [
        "# Lets plot 10th label.\n",
        "\n",
        "plt.title(y_train[9])\n",
        "plt.plot(y_train[9])\n",
        "plt.xticks(range(10));"
      ]
    },
    {
      "cell_type": "markdown",
      "id": "fe277620-bb3b-4218-b616-0e49535739ed",
      "metadata": {
        "id": "fe277620-bb3b-4218-b616-0e49535739ed"
      },
      "source": [
        "# Design Neural Network Architecture"
      ]
    },
    {
      "cell_type": "code",
      "execution_count": null,
      "id": "acc3a523-3f8e-4df2-98ef-21cd159af0f1",
      "metadata": {
        "id": "acc3a523-3f8e-4df2-98ef-21cd159af0f1"
      },
      "outputs": [],
      "source": [
        "# fix random seed for reproducibility\n",
        "seed = 43\n",
        "np.random.seed(seed)"
      ]
    },
    {
      "cell_type": "code",
      "execution_count": null,
      "id": "d786e63a-624a-48a8-b682-29cb1b088e1a",
      "metadata": {
        "id": "d786e63a-624a-48a8-b682-29cb1b088e1a"
      },
      "outputs": [],
      "source": [
        "# Linear Model\n",
        "from keras.models import  Sequential\n",
        "from keras.layers.core import  Lambda , Dense, Flatten, Dropout\n",
        "from keras.callbacks import EarlyStopping\n",
        "from keras.layers import BatchNormalization, Convolution2D , MaxPooling2D"
      ]
    },
    {
      "cell_type": "markdown",
      "id": "79bbb861-c1e4-442e-b586-80374fb79201",
      "metadata": {
        "id": "79bbb861-c1e4-442e-b586-80374fb79201"
      },
      "source": [
        "# Create a simple model from Keras Sequential layer.\n",
        "\n",
        "1. Lambda layer performs simple arithmetic operations like sum, average, exponentiation etc.\n",
        "In 1st layer of the model we have to define input dimensions of our data in (rows,columns,colour channel) format. (In theano colour channel comes first)\n",
        "2. Flatten will transform input into 1D array.\n",
        "3. Dense is fully connected layer that means all neurons in previous layers will be connected to all neurons in fully connected layer. In the last layer we have to specify output dimensions/classes of the model. Here it's 10, since we have to output 10 different digit labels."
      ]
    },
    {
      "cell_type": "code",
      "execution_count": null,
      "id": "1ee9901e-b8b6-49f8-8fde-0b34c77774aa",
      "metadata": {
        "colab": {
          "base_uri": "https://localhost:8080/"
        },
        "id": "1ee9901e-b8b6-49f8-8fde-0b34c77774aa",
        "outputId": "573f93f3-831b-496b-d15b-00d489955326"
      },
      "outputs": [
        {
          "output_type": "stream",
          "name": "stdout",
          "text": [
            "input shape  (None, 28, 28, 1)\n",
            "output shape  (None, 10)\n"
          ]
        }
      ],
      "source": [
        "model= Sequential()\n",
        "model.add(Lambda(standardize,input_shape=(28,28,1)))\n",
        "model.add(Flatten())\n",
        "model.add(Dense(10, activation='softmax'))\n",
        "print(\"input shape \",model.input_shape)\n",
        "print(\"output shape \",model.output_shape)"
      ]
    },
    {
      "cell_type": "markdown",
      "id": "042d9462-3e5d-425d-a9be-9fd28b608687",
      "metadata": {
        "id": "042d9462-3e5d-425d-a9be-9fd28b608687"
      },
      "source": [
        "# Compile network\n",
        "Before making network ready for training we have to make sure to add below things:\n",
        "\n",
        "1. A loss function: to measure how good the network is\n",
        "2. An optimizer: to update network as it sees more data and reduce loss value\n",
        "3. Metrics: to monitor performance of network"
      ]
    },
    {
      "cell_type": "code",
      "execution_count": null,
      "id": "cf5b8656-cf11-4629-82ff-63b387c6ad4e",
      "metadata": {
        "id": "cf5b8656-cf11-4629-82ff-63b387c6ad4e"
      },
      "outputs": [],
      "source": [
        "# from keras.optimizers import RMSprop\n",
        "model.compile(optimizer=RMSprop(learning_rate=0.001),\n",
        " loss='categorical_crossentropy',\n",
        " metrics=['accuracy'])"
      ]
    },
    {
      "cell_type": "code",
      "execution_count": null,
      "id": "ef093f4f-d899-43d9-ac79-d112c55cada7",
      "metadata": {
        "id": "ef093f4f-d899-43d9-ac79-d112c55cada7"
      },
      "outputs": [],
      "source": [
        "from keras.preprocessing import image\n",
        "gen = image.ImageDataGenerator()"
      ]
    },
    {
      "cell_type": "markdown",
      "id": "66c3c45e-30ea-484c-b04b-13c800ddd877",
      "metadata": {
        "id": "66c3c45e-30ea-484c-b04b-13c800ddd877"
      },
      "source": [
        "# Cross Validation"
      ]
    },
    {
      "cell_type": "code",
      "execution_count": null,
      "id": "184efe41-5535-4e41-97a5-5b3407a3a08b",
      "metadata": {
        "id": "184efe41-5535-4e41-97a5-5b3407a3a08b"
      },
      "outputs": [],
      "source": [
        "from sklearn.model_selection import train_test_split\n",
        "X = X_train\n",
        "y = y_train\n",
        "batch_size=64\n",
        "\n",
        "X_train, X_val, y_train, y_val = train_test_split(X_train, y_train, test_size=0.10, random_state=42)\n",
        "batches = gen.flow(X_train, y_train, batch_size=batch_size)\n",
        "val_batches=gen.flow(X_val, y_val, batch_size=batch_size)"
      ]
    },
    {
      "cell_type": "code",
      "execution_count": null,
      "id": "a83d4488-d81b-495f-bd63-85b7fbb7d5bb",
      "metadata": {
        "colab": {
          "base_uri": "https://localhost:8080/"
        },
        "id": "a83d4488-d81b-495f-bd63-85b7fbb7d5bb",
        "outputId": "4107b701-cda2-4d7e-921f-137f3a31e7d7"
      },
      "outputs": [
        {
          "output_type": "stream",
          "name": "stdout",
          "text": [
            "Epoch 1/5\n",
            "  590/37800 [..............................] - ETA: 2:31 - loss: 0.4524 - accuracy: 0.8647WARNING:tensorflow:Your input ran out of data; interrupting training. Make sure that your dataset or generator can generate at least `steps_per_epoch * epochs` batches (in this case, 189000 batches). You may need to use the repeat() function when building your dataset.\n",
            "WARNING:tensorflow:Your input ran out of data; interrupting training. Make sure that your dataset or generator can generate at least `steps_per_epoch * epochs` batches (in this case, 37800 batches). You may need to use the repeat() function when building your dataset.\n",
            "37800/37800 [==============================] - 4s 86us/step - loss: 0.4522 - accuracy: 0.8648 - val_loss: 0.3286 - val_accuracy: 0.9081\n"
          ]
        }
      ],
      "source": [
        "steps_per_epoch = len(X_train)//batch_size\n",
        "validation_steps = len(X_test)//batch_size # if you have validation data \n",
        "\n",
        "history=model.fit(batches, \n",
        "                            steps_per_epoch=batches.n, \n",
        "                            epochs=5, \n",
        "                            validation_data=val_batches, \n",
        "                            validation_steps=batches.n\n",
        "                           )"
      ]
    },
    {
      "cell_type": "markdown",
      "source": [
        "(Don't worry is the first try runs out of data)"
      ],
      "metadata": {
        "id": "O09Kdgi2HuMe"
      },
      "id": "O09Kdgi2HuMe"
    },
    {
      "cell_type": "code",
      "execution_count": null,
      "id": "94f4592b-a9f8-4898-ab4c-bf93e3dcdf81",
      "metadata": {
        "colab": {
          "base_uri": "https://localhost:8080/"
        },
        "id": "94f4592b-a9f8-4898-ab4c-bf93e3dcdf81",
        "outputId": "09fd967a-d301-4be0-dbdc-b47bee067d61"
      },
      "outputs": [
        {
          "output_type": "execute_result",
          "data": {
            "text/plain": [
              "dict_keys(['loss', 'accuracy', 'val_loss', 'val_accuracy'])"
            ]
          },
          "metadata": {},
          "execution_count": 22
        }
      ],
      "source": [
        "history_dict = history.history\n",
        "history_dict.keys()"
      ]
    },
    {
      "cell_type": "code",
      "execution_count": null,
      "id": "64a411f7-12cc-4818-9f37-86ce55ee156e",
      "metadata": {
        "colab": {
          "base_uri": "https://localhost:8080/",
          "height": 279
        },
        "id": "64a411f7-12cc-4818-9f37-86ce55ee156e",
        "outputId": "82ba0390-dcc3-433e-f616-ccc57ef3460b"
      },
      "outputs": [
        {
          "output_type": "display_data",
          "data": {
            "text/plain": [
              "<Figure size 432x288 with 1 Axes>"
            ],
            "image/png": "[encoded data removed]"
          },
          "metadata": {
            "needs_background": "light"
          }
        }
      ],
      "source": [
        "import matplotlib.pyplot as plt\n",
        "%matplotlib inline\n",
        "loss_values = history_dict['loss']\n",
        "val_loss_values = history_dict['val_loss']\n",
        "epochs = range(1, len(loss_values) + 1)\n",
        "\n",
        "# \"bo\" is for \"blue dot\"\n",
        "plt.plot(epochs, loss_values, 'bo')\n",
        "# b+ is for \"blue crosses\"\n",
        "plt.plot(epochs, val_loss_values, 'b+')\n",
        "plt.xlabel('Epochs')\n",
        "plt.ylabel('Loss')\n",
        "\n",
        "plt.show()"
      ]
    },
    {
      "cell_type": "code",
      "execution_count": null,
      "id": "8b2c004f-1bab-4b38-b3bc-ba8774e464d1",
      "metadata": {
        "colab": {
          "base_uri": "https://localhost:8080/",
          "height": 282
        },
        "id": "8b2c004f-1bab-4b38-b3bc-ba8774e464d1",
        "outputId": "e8cccb5b-c66d-4a60-e566-7d1fc7c6e8b0"
      },
      "outputs": [
        {
          "output_type": "display_data",
          "data": {
            "text/plain": [
              "<Figure size 432x288 with 1 Axes>"
            ],
            "image/png": "[encoded data removed]"
          },
          "metadata": {
            "needs_background": "light"
          }
        }
      ],
      "source": [
        "plt.clf()   # clear figure\n",
        "acc_values = history_dict['accuracy']\n",
        "val_acc_values = history_dict['val_accuracy']\n",
        "\n",
        "plt.plot(epochs, acc_values, 'bo')\n",
        "plt.plot(epochs, val_acc_values, 'b+')\n",
        "plt.xlabel('Epochs')\n",
        "plt.ylabel('Accuracy')\n",
        "\n",
        "plt.show()"
      ]
    },
    {
      "cell_type": "markdown",
      "id": "cba02bab-5e7a-4647-9ace-06b8980807da",
      "metadata": {
        "id": "cba02bab-5e7a-4647-9ace-06b8980807da"
      },
      "source": [
        "# Fully Connected Model¶\n",
        "Neurons in a fully connected layer have full connections to all activations in the previous layer, as seen in regular Neural Networks. Adding another Dense Layer to model."
      ]
    },
    {
      "cell_type": "code",
      "execution_count": null,
      "id": "c3de4f6a-c9c9-4635-a03e-f82281ba2701",
      "metadata": {
        "id": "c3de4f6a-c9c9-4635-a03e-f82281ba2701"
      },
      "outputs": [],
      "source": [
        "def get_fc_model():\n",
        "    model = Sequential([\n",
        "        Lambda(standardize, input_shape=(28,28,1)),\n",
        "        Flatten(),\n",
        "        Dense(512, activation='relu'),\n",
        "        Dense(10, activation='softmax')\n",
        "        ])\n",
        "    model.compile(optimizer='Adam', loss='categorical_crossentropy',\n",
        "                  metrics=['accuracy'])\n",
        "    return model\n",
        "\n",
        "fc = get_fc_model()\n",
        "fc.optimizer.lr=0.01"
      ]
    },
    {
      "cell_type": "code",
      "execution_count": null,
      "id": "b29c4dc7-64ea-47f2-9640-5267515b5474",
      "metadata": {
        "colab": {
          "base_uri": "https://localhost:8080/"
        },
        "id": "b29c4dc7-64ea-47f2-9640-5267515b5474",
        "outputId": "8e34de67-179f-4cf6-f78f-6ec919b8de7a"
      },
      "outputs": [
        {
          "output_type": "stream",
          "name": "stdout",
          "text": [
            "  586/37800 [..............................] - ETA: 4:52 - loss: 0.3346 - accuracy: 0.9116WARNING:tensorflow:Your input ran out of data; interrupting training. Make sure that your dataset or generator can generate at least `steps_per_epoch * epochs` batches (in this case, 37800 batches). You may need to use the repeat() function when building your dataset.\n",
            "WARNING:tensorflow:Your input ran out of data; interrupting training. Make sure that your dataset or generator can generate at least `steps_per_epoch * epochs` batches (in this case, 4200 batches). You may need to use the repeat() function when building your dataset.\n",
            "37800/37800 [==============================] - 6s 136us/step - loss: 0.3337 - accuracy: 0.9117 - val_loss: 0.2057 - val_accuracy: 0.9395\n"
          ]
        }
      ],
      "source": [
        "history=fc.fit(batches, \n",
        "             steps_per_epoch=batches.n, \n",
        "             epochs=1, \n",
        "             validation_data=val_batches, \n",
        "             validation_steps=val_batches.n\n",
        "            )"
      ]
    },
    {
      "cell_type": "markdown",
      "id": "2f06cbd5-34b5-49f1-8d69-fc2e59b3ab17",
      "metadata": {
        "id": "2f06cbd5-34b5-49f1-8d69-fc2e59b3ab17"
      },
      "source": [
        "# Convolutional Neural Network\n",
        "CNNs are extremely efficient for images."
      ]
    },
    {
      "cell_type": "code",
      "execution_count": null,
      "id": "0726225e-2e79-4918-8775-88f99f1013a2",
      "metadata": {
        "id": "0726225e-2e79-4918-8775-88f99f1013a2"
      },
      "outputs": [],
      "source": [
        "from keras.layers import Convolution2D, MaxPooling2D\n",
        "\n",
        "def get_cnn_model():\n",
        "    model = Sequential([\n",
        "        Lambda(standardize, input_shape=(28,28,1)),\n",
        "        Convolution2D(32,(3,3), activation='relu'),\n",
        "        Convolution2D(32,(3,3), activation='relu'),\n",
        "        MaxPooling2D(),\n",
        "        Convolution2D(64,(3,3), activation='relu'),\n",
        "        Convolution2D(64,(3,3), activation='relu'),\n",
        "        MaxPooling2D(),\n",
        "        Flatten(),\n",
        "        Dense(512, activation='relu'),\n",
        "        Dense(10, activation='softmax')\n",
        "        ])\n",
        "    model.compile(Adam(), loss='categorical_crossentropy',\n",
        "                  metrics=['accuracy'])\n",
        "    return model\n",
        "\n",
        "model= get_cnn_model()\n",
        "model.optimizer.lr=0.01"
      ]
    },
    {
      "cell_type": "code",
      "execution_count": null,
      "id": "de939f8d-228e-42f6-b71e-637b382fe9db",
      "metadata": {
        "colab": {
          "base_uri": "https://localhost:8080/"
        },
        "id": "de939f8d-228e-42f6-b71e-637b382fe9db",
        "outputId": "a168ca46-b8d1-4e7e-977e-8f13253bb73b"
      },
      "outputs": [
        {
          "output_type": "stream",
          "name": "stdout",
          "text": [
            "  591/37800 [..............................] - ETA: 1:34:22 - loss: 0.2696 - accuracy: 0.9181WARNING:tensorflow:Your input ran out of data; interrupting training. Make sure that your dataset or generator can generate at least `steps_per_epoch * epochs` batches (in this case, 37800 batches). You may need to use the repeat() function when building your dataset.\n",
            "WARNING:tensorflow:Your input ran out of data; interrupting training. Make sure that your dataset or generator can generate at least `steps_per_epoch * epochs` batches (in this case, 4200 batches). You may need to use the repeat() function when building your dataset.\n",
            "37800/37800 [==============================] - 93s 2ms/step - loss: 0.2696 - accuracy: 0.9181 - val_loss: 0.2009 - val_accuracy: 0.9386\n"
          ]
        }
      ],
      "source": [
        "history=model.fit(batches, \n",
        "                            steps_per_epoch=batches.n, \n",
        "                            epochs=1, \n",
        "                            validation_data=val_batches, \n",
        "                            validation_steps=val_batches.n\n",
        "                           )"
      ]
    },
    {
      "cell_type": "markdown",
      "id": "f52a2366-e7e5-47ca-b88f-73ee103a7b08",
      "metadata": {
        "id": "f52a2366-e7e5-47ca-b88f-73ee103a7b08"
      },
      "source": [
        "# Data Augmentation\n",
        "It is tehnique of showing slighly different or new images to neural network to avoid overfitting. And to achieve better generalization. In case you have very small dataset, you can use different kinds of data augmentation techniques to increase your data size. Neural networks perform better if you provide them more data.\n",
        "\n",
        "Different data aumentation techniques are as follows:\n",
        "\n",
        "1. Cropping\n",
        "2. Rotating\n",
        "3. Scaling\n",
        "4. Translating\n",
        "5. Flipping\n",
        "6. Adding Gaussian noise to input images etc."
      ]
    },
    {
      "cell_type": "code",
      "execution_count": null,
      "id": "dd25bb95-1af4-4ecf-9989-d74ed2cb2a11",
      "metadata": {
        "id": "dd25bb95-1af4-4ecf-9989-d74ed2cb2a11"
      },
      "outputs": [],
      "source": [
        "gen =ImageDataGenerator(rotation_range=8, \n",
        "                        width_shift_range=0.08, \n",
        "                        shear_range=0.3,\n",
        "                        height_shift_range=0.08, \n",
        "                        zoom_range=0.08\n",
        "                       )\n",
        "batches = gen.flow(X_train, y_train, batch_size=64)\n",
        "val_batches = gen.flow(X_val, y_val, batch_size=64)"
      ]
    },
    {
      "cell_type": "code",
      "execution_count": null,
      "id": "e6d30df8-b8f9-4e77-8d18-db78eeac6652",
      "metadata": {
        "colab": {
          "base_uri": "https://localhost:8080/"
        },
        "id": "e6d30df8-b8f9-4e77-8d18-db78eeac6652",
        "outputId": "d8884d4b-3f4f-47f7-ac94-31d26fbbd83c"
      },
      "outputs": [
        {
          "output_type": "stream",
          "name": "stdout",
          "text": [
            "  591/37800 [..............................] - ETA: 1:43:31 - loss: 0.1841 - accuracy: 0.9415WARNING:tensorflow:Your input ran out of data; interrupting training. Make sure that your dataset or generator can generate at least `steps_per_epoch * epochs` batches (in this case, 37800 batches). You may need to use the repeat() function when building your dataset.\n",
            "WARNING:tensorflow:Your input ran out of data; interrupting training. Make sure that your dataset or generator can generate at least `steps_per_epoch * epochs` batches (in this case, 4200 batches). You may need to use the repeat() function when building your dataset.\n",
            "37800/37800 [==============================] - 104s 3ms/step - loss: 0.1841 - accuracy: 0.9415 - val_loss: 0.1456 - val_accuracy: 0.9583\n"
          ]
        }
      ],
      "source": [
        "model.optimizer.lr=0.001\n",
        "history=model.fit(batches, \n",
        "                            steps_per_epoch=batches.n, \n",
        "                            epochs=1, \n",
        "                            validation_data=val_batches, \n",
        "                            validation_steps=val_batches.n\n",
        "                           )"
      ]
    },
    {
      "cell_type": "markdown",
      "id": "beea23a6-1d51-4cd3-9977-62416133d285",
      "metadata": {
        "id": "beea23a6-1d51-4cd3-9977-62416133d285"
      },
      "source": [
        "# Adding Batch Normalization\n",
        "BN helps to fine tune hyperparameters more better and train really deep neural networks."
      ]
    },
    {
      "cell_type": "code",
      "execution_count": null,
      "id": "04931b3f-1e19-4bcc-af58-4a1b6b949c70",
      "metadata": {
        "id": "04931b3f-1e19-4bcc-af58-4a1b6b949c70"
      },
      "outputs": [],
      "source": [
        "# from keras.layers.normalization import BatchNormalization\n",
        "from tensorflow.keras.layers import BatchNormalization\n",
        "\n",
        "def get_bn_model():\n",
        "    model = Sequential([\n",
        "        Lambda(standardize, input_shape=(28,28,1)),\n",
        "        Convolution2D(32,(3,3), activation='relu'),\n",
        "        BatchNormalization(axis=1),\n",
        "        Convolution2D(32,(3,3), activation='relu'),\n",
        "        MaxPooling2D(),\n",
        "        BatchNormalization(axis=1),\n",
        "        Convolution2D(64,(3,3), activation='relu'),\n",
        "        BatchNormalization(axis=1),\n",
        "        Convolution2D(64,(3,3), activation='relu'),\n",
        "        MaxPooling2D(),\n",
        "        Flatten(),\n",
        "        BatchNormalization(),\n",
        "        Dense(512, activation='relu'),\n",
        "        BatchNormalization(),\n",
        "        Dense(10, activation='softmax')\n",
        "        ])\n",
        "    model.compile(Adam(), loss='categorical_crossentropy', metrics=['accuracy'])\n",
        "    return model"
      ]
    },
    {
      "cell_type": "code",
      "execution_count": null,
      "id": "ecdd2dce-56ac-4c5d-b958-b991d4270953",
      "metadata": {
        "colab": {
          "base_uri": "https://localhost:8080/"
        },
        "id": "ecdd2dce-56ac-4c5d-b958-b991d4270953",
        "outputId": "8af9216d-03d5-4cdf-8184-2d484605d066"
      },
      "outputs": [
        {
          "output_type": "stream",
          "name": "stdout",
          "text": [
            "  591/37800 [..............................] - ETA: 2:21:12 - loss: 0.2288 - accuracy: 0.9351WARNING:tensorflow:Your input ran out of data; interrupting training. Make sure that your dataset or generator can generate at least `steps_per_epoch * epochs` batches (in this case, 37800 batches). You may need to use the repeat() function when building your dataset.\n",
            "WARNING:tensorflow:Your input ran out of data; interrupting training. Make sure that your dataset or generator can generate at least `steps_per_epoch * epochs` batches (in this case, 4200 batches). You may need to use the repeat() function when building your dataset.\n",
            "37800/37800 [==============================] - 140s 4ms/step - loss: 0.2288 - accuracy: 0.9351 - val_loss: 0.2016 - val_accuracy: 0.9548\n"
          ]
        }
      ],
      "source": [
        "model= get_bn_model()\n",
        "model.optimizer.lr=0.01\n",
        "history=model.fit(batches, \n",
        "                  steps_per_epoch=batches.n, \n",
        "                  epochs=1, \n",
        "                  validation_data=val_batches, \n",
        "                  validation_steps=val_batches.n\n",
        "                 )"
      ]
    },
    {
      "cell_type": "markdown",
      "id": "12a2589d-272c-4e40-be1e-7af9cca9c602",
      "metadata": {
        "id": "12a2589d-272c-4e40-be1e-7af9cca9c602"
      },
      "source": [
        "# Get the Predictions\n",
        "Make sure you use full train dataset here to train model and predict on test set."
      ]
    },
    {
      "cell_type": "code",
      "execution_count": null,
      "id": "da059b29-1976-4855-8658-d278c5f0c81f",
      "metadata": {
        "colab": {
          "base_uri": "https://localhost:8080/"
        },
        "id": "da059b29-1976-4855-8658-d278c5f0c81f",
        "outputId": "d6c51ad9-43f5-49e1-dd7c-2b793cfbf58e"
      },
      "outputs": [
        {
          "output_type": "stream",
          "name": "stdout",
          "text": [
            "Epoch 1/3\n",
            "  657/42000 [..............................] - ETA: 2:27:53 - loss: 0.0537 - accuracy: 0.9840WARNING:tensorflow:Your input ran out of data; interrupting training. Make sure that your dataset or generator can generate at least `steps_per_epoch * epochs` batches (in this case, 126000 batches). You may need to use the repeat() function when building your dataset.\n",
            "42000/42000 [==============================] - 141s 3ms/step - loss: 0.0537 - accuracy: 0.9840\n"
          ]
        }
      ],
      "source": [
        "model.optimizer.lr=0.01\n",
        "gen = image.ImageDataGenerator()\n",
        "batches = gen.flow(X, y, batch_size=64)\n",
        "# history=model.fit_generator(generator=batches, steps_per_epoch=batches.n, epochs=3)\n",
        "history=model.fit(batches, steps_per_epoch=batches.n, epochs=3)"
      ]
    },
    {
      "cell_type": "code",
      "execution_count": null,
      "id": "294c30a1-a09a-4717-8c25-c0b885175e44",
      "metadata": {
        "id": "294c30a1-a09a-4717-8c25-c0b885175e44"
      },
      "outputs": [],
      "source": [
        "# predictions = model.predict_classes(X_test, verbose=0)\n",
        "\n",
        "# This function were removed in TensorFlow version 2.6. \n",
        "# According to the keras in rstudio reference\n",
        "\n",
        "predictions=model.predict(X_test) \n",
        "classes_x=np.argmax(predictions,axis=1)\n",
        "\n",
        "submissions=pd.DataFrame({\"ImageId\": list(range(1,len(predictions)+1)),\n",
        "                          \"Label\": classes_x})\n",
        "\n",
        "submissions.to_csv(\"byscratch/data/mnist_DR.csv\", index=False, header=True)"
      ]
    },
    {
      "cell_type": "code",
      "execution_count": null,
      "id": "51f9aa4f-172b-4818-8c74-74d1cc3ed663",
      "metadata": {
        "colab": {
          "base_uri": "https://localhost:8080/"
        },
        "id": "51f9aa4f-172b-4818-8c74-74d1cc3ed663",
        "outputId": "d0acaa98-2887-4596-bb60-fcaa7af57cda"
      },
      "outputs": [
        {
          "output_type": "execute_result",
          "data": {
            "text/plain": [
              "array([2, 0, 9, ..., 3, 9, 2])"
            ]
          },
          "metadata": {},
          "execution_count": 35
        }
      ],
      "source": [
        "classes_x"
      ]
    },
    {
      "cell_type": "code",
      "execution_count": null,
      "id": "c49df095-dd06-42a9-a603-72c3ac2a096d",
      "metadata": {
        "id": "c49df095-dd06-42a9-a603-72c3ac2a096d"
      },
      "outputs": [],
      "source": [
        "# for i in range(0, 9):\n",
        "#     plt.subplot(330 + (i+1))\n",
        "#     plt.imshow(X_train[i], cmap=plt.get_cmap('gray_r'))\n",
        "#     plt.title(y_train[i]);"
      ]
    },
    {
      "cell_type": "code",
      "execution_count": null,
      "id": "2b718a7b-107a-4490-9779-72e18905e2a6",
      "metadata": {
        "id": "2b718a7b-107a-4490-9779-72e18905e2a6"
      },
      "outputs": [],
      "source": [
        "# image_index = 333\n",
        "# img = X_test[image_index].reshape(28, 28)\n",
        "# dig = pred.argmax()\n",
        "\n",
        "# plt.imshow(img,cmap='Greys')\n",
        "# pred = model.predict(X_test[image_index].reshape(1, 28, 28, 1))\n",
        "# print(dig)"
      ]
    },
    {
      "cell_type": "code",
      "execution_count": null,
      "id": "bb4ecb1e-fbd8-4d0d-9922-72d330dec5d5",
      "metadata": {
        "id": "bb4ecb1e-fbd8-4d0d-9922-72d330dec5d5"
      },
      "outputs": [],
      "source": [
        "from IPython.display import display\n",
        "\n",
        "image_index = 333\n",
        "\n",
        "image_set = []\n",
        "image_indices = []\n",
        "\n",
        "def compareImgPred(idx):\n",
        "    imgsh = X_test[idx].reshape(28, 28)\n",
        "    image_set.append(imgsh)\n",
        "    image_indices.append(idx)\n",
        "    pred = model.predict(X_test[idx].reshape(1, 28, 28, 1))\n",
        "    dig = pred.argmax()\n",
        "\n",
        "    # img = plt.imshow(imgsh,cmap='Greys')\n",
        "    # display(dig)\n",
        "    # display(img)\n",
        "    # plt.show()\n",
        "    \n",
        "for n in range(500,520):\n",
        "    compareImgPred(n)"
      ]
    },
    {
      "cell_type": "code",
      "execution_count": null,
      "id": "6b33173b-4889-43cc-ba2c-ca42bb3d4e41",
      "metadata": {
        "id": "6b33173b-4889-43cc-ba2c-ca42bb3d4e41"
      },
      "outputs": [],
      "source": [
        "import numpy as np\n",
        "import cv2\n",
        "import json\n",
        "from matplotlib import pyplot as plt\n",
        "\n",
        "def read_this(image_file, gray_scale=False):\n",
        "    image_src = cv2.imread(image_file)\n",
        "    if gray_scale:\n",
        "        image_src = cv2.cvtColor(image_src, cv2.COLOR_BGR2GRAY)\n",
        "    else:\n",
        "        image_src = cv2.cvtColor(image_src, cv2.COLOR_BGR2RGB)\n",
        "    return image_src\n",
        "\n",
        "def resize_image(image_matrix, nh, nw):\n",
        "    image_size = image_matrix.shape\n",
        "    oh = image_size[0]\n",
        "    ow = image_size[1]   \n",
        "\n",
        "    re_image_matrix = np.array([\n",
        "        np.array([image_matrix[(oh*h // nh)][(ow*w // nw)] for w in range(nw)]) \n",
        "        for h in range(nh)\n",
        "    ])\n",
        "\n",
        "    return re_image_matrix\n",
        "\n",
        "def concat_lib(image_set, how, with_plot=False, image_indices=[]):\n",
        "    # list for predictions\n",
        "    predcts = []\n",
        "    # dimension of each matrix in image_set\n",
        "    shape_vals = [imat.shape for imat in image_set]\n",
        "\n",
        "    # length of dimension of each matrix in image_set\n",
        "    shape_lens = [len(ishp) for ishp in shape_vals]\n",
        "\n",
        "    # if all the images in image_set are read in same mode\n",
        "    channel_flag = True if len(set(shape_lens)) == 1 else False\n",
        "\n",
        "    if channel_flag:\n",
        "        ideal_shape = max(shape_vals)\n",
        "        images_resized = [\n",
        "            # function call to resize the image\n",
        "            resize_image(image_matrix=imat, nh=ideal_shape[0], nw=ideal_shape[1]) \n",
        "            if imat.shape != ideal_shape else imat for imat in image_set\n",
        "        ]\n",
        "    # else:\n",
        "    #     return False\n",
        "\n",
        "    for i,img in enumerate(image_set):\n",
        "        # model.predict(X_test[idx].reshape(1, 28, 28, 1))\n",
        "        idx = image_indices[i]\n",
        "        pred = model.predict(X_test[idx].reshape(1, 28, 28, 1))\n",
        "        dig = pred.argmax()\n",
        "        # print(dig)\n",
        "        predcts.append(dig)\n",
        "\n",
        "    # cv2 library code to concatenate the image matrices\n",
        "    # we use methods like\n",
        "    #     - vconcat() → vertical concat\n",
        "    #     - hconcat() → horizontal concat\n",
        "    if (how == 0) or (how == 'vertical'):\n",
        "        concats = cv2.vconcat(images_resized)\n",
        "    elif (how == 1) or (how == 'horizontal'):\n",
        "        concats = cv2.hconcat(images_resized)\n",
        "    else:\n",
        "        concats = cv2.hconcat(images_resized)\n",
        "\n",
        "    if with_plot:\n",
        "        cmap_val = None if len(concats.shape) == 3 else 'gray_r'\n",
        "        plt.figure(figsize=(10, 6))\n",
        "        plt.axis(\"off\")\n",
        "        plt.imshow(concats, cmap=cmap_val)\n",
        "        # return True\n",
        "\n",
        "\n",
        "    return concats, predcts\n"
      ]
    },
    {
      "cell_type": "code",
      "execution_count": null,
      "id": "abac1c18-a09d-483a-9973-e51f989b22aa",
      "metadata": {
        "colab": {
          "base_uri": "https://localhost:8080/",
          "height": 59
        },
        "id": "abac1c18-a09d-483a-9973-e51f989b22aa",
        "outputId": "c86525b7-cb23-4379-9334-914f0c06bb50"
      },
      "outputs": [
        {
          "output_type": "display_data",
          "data": {
            "text/plain": [
              "<Figure size 720x432 with 1 Axes>"
            ],
            "image/png": "[encoded data removed]"
          },
          "metadata": {
            "needs_background": "light"
          }
        }
      ],
      "source": [
        "c,predcts = concat_lib(image_set, how=\"horizontally\", with_plot=True,image_indices=image_indices)"
      ]
    },
    {
      "cell_type": "code",
      "source": [
        "print(predcts)"
      ],
      "metadata": {
        "colab": {
          "base_uri": "https://localhost:8080/"
        },
        "id": "_wjLhOXYJR65",
        "outputId": "ed57231b-b1b8-4bf5-bd9f-663ce0a20bd8"
      },
      "id": "_wjLhOXYJR65",
      "execution_count": null,
      "outputs": [
        {
          "output_type": "stream",
          "name": "stdout",
          "text": [
            "[6, 5, 9, 4, 1, 8, 3, 3, 0, 2, 7, 6, 8, 7, 5, 3, 5, 7, 4, 3]\n"
          ]
        }
      ]
    },
    {
      "cell_type": "code",
      "source": [
        ""
      ],
      "metadata": {
        "id": "NK2SSNk8Kne1"
      },
      "id": "NK2SSNk8Kne1",
      "execution_count": null,
      "outputs": []
    }
  ],
  "metadata": {
    "kernelspec": {
      "display_name": "Python 3 (ipykernel)",
      "language": "python",
      "name": "python3"
    },
    "language_info": {
      "codemirror_mode": {
        "name": "ipython",
        "version": 3
      },
      "file_extension": ".py",
      "mimetype": "text/x-python",
      "name": "python",
      "nbconvert_exporter": "python",
      "pygments_lexer": "ipython3",
      "version": "3.8.11"
    },
    "colab": {
      "name": "deep_learning.ipynb",
      "provenance": [],
      "collapsed_sections": [],
      "include_colab_link": true
    }
  },
  "nbformat": 4,
  "nbformat_minor": 5
}